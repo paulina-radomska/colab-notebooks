{
  "nbformat": 4,
  "nbformat_minor": 0,
  "metadata": {
    "colab": {
      "provenance": [],
      "collapsed_sections": [
        "PvnXPjZI1voi",
        "1vVkU9ui15MO",
        "j7Kv7c5x18BJ",
        "0SDRtWzr2C9X",
        "YVZxzjUh2JtT",
        "2CRcsFSZ2NXC"
      ],
      "authorship_tag": "ABX9TyO7jp+QR01hrp5jYbOrd5ES",
      "include_colab_link": true
    },
    "kernelspec": {
      "name": "python3",
      "display_name": "Python 3"
    },
    "language_info": {
      "name": "python"
    }
  },
  "cells": [
    {
      "cell_type": "markdown",
      "metadata": {
        "id": "view-in-github",
        "colab_type": "text"
      },
      "source": [
        "<a href=\"https://colab.research.google.com/github/paulina-radomska/colab-notebooks/blob/main/PaulinaRadomska_SourceCode_Analysis.ipynb\" target=\"_parent\"><img src=\"https://colab.research.google.com/assets/colab-badge.svg\" alt=\"Open In Colab\"/></a>"
      ]
    },
    {
      "cell_type": "markdown",
      "source": [
        "Paulina Radomska\n",
        "\n",
        "Kod źródłowy do pracy dyplomowej: *Analiza komentarzy użytkowników aplikacji symptom checker z rozpoznawaniem ich intencji*\n"
      ],
      "metadata": {
        "id": "BezmYw7Z2kAE"
      }
    },
    {
      "cell_type": "markdown",
      "source": [
        "### Import bibliotek i instalacja pakietów"
      ],
      "metadata": {
        "id": "YXu3m6r84Vb3"
      }
    },
    {
      "cell_type": "code",
      "execution_count": null,
      "metadata": {
        "id": "8sOPdE_0q9mh"
      },
      "outputs": [],
      "source": [
        "#Import wykorzystanych bibliotek i instalacja nowych pakietów.\n",
        "import pandas as pd\n",
        "import numpy as np\n",
        "import seaborn as sns\n",
        "import json\n",
        "import matplotlib.pyplot as plt\n",
        "!pip install app_store_scraper\n",
        "import app_store_scraper\n",
        "!pip install google-play-scraper\n",
        "!pip install emoji --upgrade\n",
        "import emoji\n",
        "import re\n",
        "!pip install contractions\n",
        "import contractions\n",
        "!pip install nltk\n",
        "import nltk\n",
        "from nltk.tokenize import word_tokenize\n",
        "import string\n",
        "from nltk.corpus import stopwords\n",
        "from nltk.stem import WordNetLemmatizer\n",
        "from nltk.corpus import wordnet\n",
        "!pip install transformers\n",
        "import transformers\n",
        "from transformers import pipeline\n",
        "from app_store_scraper import AppStore\n",
        "from google_play_scraper import app\n",
        "from google_play_scraper import Sort, reviews_all\n",
        "!pip install evaluate\n",
        "import evaluate\n",
        "from sklearn.metrics import precision_score, recall_score, f1_score, accuracy_score\n",
        "from sklearn.metrics import confusion_matrix\n",
        "!pip install vaderSentiment\n",
        "from vaderSentiment.vaderSentiment import SentimentIntensityAnalyzer\n",
        "from nltk.sentiment import SentimentIntensityAnalyzer\n",
        "from tqdm.notebook import tqdm\n",
        "nltk.download('punkt')\n",
        "nltk.download('wordnet')\n",
        "nltk.download('omw-1.4')\n",
        "nltk.download('averaged_perceptron_tagger')\n",
        "!pip install wordcloud\n",
        "from wordcloud import WordCloud\n",
        "from collections import Counter\n",
        "!pip install NRCLex\n",
        "from nrclex import NRCLex\n",
        "import plotly.express as px\n",
        "from sklearn.model_selection import train_test_split\n",
        "from sklearn.feature_extraction.text import TfidfVectorizer\n",
        "from sklearn.metrics import classification_report\n",
        "from imblearn.over_sampling import SMOTE\n",
        "from sklearn.feature_extraction.text import TfidfVectorizer\n",
        "nltk.download(\"vader_lexicon\")\n",
        "from sklearn.metrics import accuracy_score, classification_report\n",
        "import gensim.corpora as corpora\n",
        "from gensim.models import LdaMulticore\n",
        "from gensim.models import LdaModel\n",
        "from pprint import pprint\n",
        "from gensim.models import FastText\n",
        "from tqdm import tqdm\n",
        "from sklearn.svm import SVC\n",
        "from sklearn.model_selection import GridSearchCV\n",
        "from sklearn.neighbors import KNeighborsClassifier\n",
        "from sklearn.naive_bayes import GaussianNB\n",
        "from sklearn.preprocessing import PowerTransformer\n",
        "from sklearn.model_selection import RepeatedStratifiedKFold"
      ]
    },
    {
      "cell_type": "markdown",
      "source": [
        "### Wstępne przygotowanie zbioru danych"
      ],
      "metadata": {
        "id": "PvnXPjZI1voi"
      }
    },
    {
      "cell_type": "code",
      "source": [
        "#Pobieranie danych\n",
        "SC = AppStore(country='us', app_name='symptomate-symptom-checker', app_id = '837725433')\n",
        "SC.review(how_many=2000)\n",
        "\n",
        "SCdf = pd.DataFrame(np.array(SC.reviews),columns=['review'])\n",
        "SCdf = SCdf.join(pd.DataFrame(SCdf.pop('review').tolist()))\n",
        "SCdf = SCdf[['review', 'title', 'userName', 'rating', 'date']]\n",
        "\n",
        "us_reviews = reviews_all(\n",
        "    'com.symptomate.mobile',\n",
        "    sleep_milliseconds = 0,\n",
        "    lang = 'en',\n",
        "    country = 'us',\n",
        "    sort = Sort.NEWEST,\n",
        ")\n",
        "dfSC = pd.DataFrame(np.array(us_reviews),columns=['review'])\n",
        "dfSC = dfSC.join(pd.DataFrame(dfSC.pop('review').tolist()))\n",
        "dfSC = dfSC[['content', 'reviewId', 'userName', 'score', 'at']]\n",
        "dfSC.columns = ['review', 'title', 'userName', 'rating', 'date']\n",
        "SCreviews = pd.concat([SCdf, dfSC], axis = 0)"
      ],
      "metadata": {
        "id": "T25lmW6BrDM8"
      },
      "execution_count": null,
      "outputs": []
    },
    {
      "cell_type": "code",
      "source": [
        "#Usuwanie wierszy z brakującymi komentarzami\n",
        "SCreviews= SCreviews.dropna(how='any')"
      ],
      "metadata": {
        "id": "vAMlpYK0rK0r"
      },
      "execution_count": null,
      "outputs": []
    },
    {
      "cell_type": "code",
      "source": [
        "#Sprawdzanie braków danych\n",
        "pd.isnull(SCreviews).sum()"
      ],
      "metadata": {
        "id": "sVokshMerLTM"
      },
      "execution_count": null,
      "outputs": []
    },
    {
      "cell_type": "code",
      "source": [
        "#Sprawdzanie typów danych\n",
        "SCreviews.info()"
      ],
      "metadata": {
        "id": "o8JC0bVQrQt0"
      },
      "execution_count": null,
      "outputs": []
    },
    {
      "cell_type": "code",
      "source": [
        "#Ustalanie wartości sentymentu\n",
        "def set_sentiment(row):\n",
        "    if row[\"rating\"] == 1:\n",
        "        return \"Negative\"\n",
        "    elif row[\"rating\"] == 2:\n",
        "        return \"Negative\"\n",
        "    else:\n",
        "      return \"Positive\"\n",
        "\n",
        "df_clean['energy_category'] = df_clean['energy_%'].apply(categorize_energy)\n"
      ],
      "metadata": {
        "id": "LKwedxMXrTbu"
      },
      "execution_count": null,
      "outputs": []
    },
    {
      "cell_type": "code",
      "source": [
        "#Usuwanie czasu z daty\n",
        "SCreviews['date'] = pd.to_datetime(SCreviews['date']).dt.normalize()"
      ],
      "metadata": {
        "id": "YpKcwvOcraT8"
      },
      "execution_count": null,
      "outputs": []
    },
    {
      "cell_type": "code",
      "source": [
        "#SCreviews['date'].min()\n",
        "SCreviews['date'].max()"
      ],
      "metadata": {
        "id": "ur2ykkHarm1O"
      },
      "execution_count": null,
      "outputs": []
    },
    {
      "cell_type": "code",
      "source": [
        "SCreviews.columns = ['Review', 'Title', 'UserName', 'Rating', 'Date', 'Sentiment']"
      ],
      "metadata": {
        "id": "o5mX3nr1rb-B"
      },
      "execution_count": null,
      "outputs": []
    },
    {
      "cell_type": "code",
      "source": [
        "sns.countplot(x=\"Sentiment\", data = SCreviews)"
      ],
      "metadata": {
        "id": "DP9Tx610rf-l"
      },
      "execution_count": null,
      "outputs": []
    },
    {
      "cell_type": "code",
      "source": [
        "#Liczbowe podsumowanie sentymentów\n",
        "SCreviews['Sentiment'].value_counts()"
      ],
      "metadata": {
        "id": "JAV4GqV6rjDc"
      },
      "execution_count": null,
      "outputs": []
    },
    {
      "cell_type": "code",
      "source": [
        "#Liczbowe podsumowanie ocen\n",
        "SCreviews['Rating'].value_counts()"
      ],
      "metadata": {
        "id": "2engLrm1rknB"
      },
      "execution_count": null,
      "outputs": []
    },
    {
      "cell_type": "code",
      "source": [
        "rating_count = SCreviews[\"Rating\"].value_counts()\n",
        "plt.pie(rating_count, labels=rating_count.index, autopct ='%1.1f%%', shadow = True, startangle = 140)\n",
        "plt.show()"
      ],
      "metadata": {
        "id": "bWzmIhJDrols"
      },
      "execution_count": null,
      "outputs": []
    },
    {
      "cell_type": "markdown",
      "source": [
        "### Transformacje na zbiorze"
      ],
      "metadata": {
        "id": "1vVkU9ui15MO"
      }
    },
    {
      "cell_type": "code",
      "source": [
        "#Usuwanie kapitalizacji\n",
        "SCreviews['Review'] = SCreviews['Review'].str.lower()\n",
        "SCreviews['Review'] = SCreviews['Review'].astype(\"string\")"
      ],
      "metadata": {
        "id": "h76Xifb5rqNx"
      },
      "execution_count": null,
      "outputs": []
    },
    {
      "cell_type": "code",
      "source": [
        "#Usuwanie emoji\n",
        "SCreviews['Review'] = pd.Series(SCreviews['Review']).apply(lambda x: emoji.demojize(x))"
      ],
      "metadata": {
        "id": "XjUIDmBZruMy"
      },
      "execution_count": null,
      "outputs": []
    },
    {
      "cell_type": "code",
      "source": [
        "#Usuwanie szumów\n",
        "SCreviews['Review'] = pd.Series(SCreviews['Review']).apply(lambda x: re.sub(r'(.)\\1+', r'\\1\\1', x))\n",
        "SCreviews['Review'] = pd.Series(SCreviews['Review']).apply(lambda x: re.sub(r'[\\?\\.\\!]+(?=[\\?\\.\\!])', \"\", x))"
      ],
      "metadata": {
        "id": "86tf8dF6rwgB"
      },
      "execution_count": null,
      "outputs": []
    },
    {
      "cell_type": "code",
      "source": [
        "#Rozszerzanie skrótów\n",
        "for row in range(len(SCreviews)):\n",
        "  SCreviews.iloc[row, 0] = contractions.fix(SCreviews.iloc[row, 0])"
      ],
      "metadata": {
        "id": "5fYHvAFMr0hO"
      },
      "execution_count": null,
      "outputs": []
    },
    {
      "cell_type": "code",
      "source": [
        "#Usuwanie słów stop\n",
        "nltk.download('stopwords')\n",
        "stop_words = stopwords.words('english')\n",
        "stop_words.remove('not')\n",
        "stop_words.remove('no')\n",
        "print(stop_words)\n",
        "\n",
        "SCreviews['Preprocessed'] = SCreviews['Review'].apply(lambda x: ' '.join([word for word in x.split() if word not in (stop_words)]))"
      ],
      "metadata": {
        "id": "MYOZb9Xvr7hH"
      },
      "execution_count": null,
      "outputs": []
    },
    {
      "cell_type": "code",
      "source": [
        "#Tokenizacja\n",
        "SCreviews['Tokenized'] = pd.Series(SCreviews['Preprocessed']).apply(lambda x: word_tokenize(x))"
      ],
      "metadata": {
        "id": "LbOIbaxJsBqy"
      },
      "execution_count": null,
      "outputs": []
    },
    {
      "cell_type": "code",
      "source": [
        "#Lemantyzacja\n",
        "def get_wordnet_pos(word):\n",
        "  tag = nltk.pos_tag([word])[0][1][0].upper()\n",
        "  tag_dict = {\"J\": wordnet.ADJ,\n",
        "              \"N\": wordnet.NOUN,\n",
        "              \"V\": wordnet.VERB,\n",
        "              \"R\": wordnet.ADV}\n",
        "\n",
        "  return tag_dict.get(tag, wordnet.NOUN)\n",
        "\n",
        "lemmatizer = WordNetLemmatizer()\n",
        "\n",
        "lemmatized = []\n",
        "for i in range(len(SCreviews)):\n",
        "  x = [lemmatizer.lemmatize(word,get_wordnet_pos(word)) for word in SCreviews.iloc[i, 7]]\n",
        "  lemmatized.append(x)\n",
        "\n",
        "SCreviews[\"Lemmatized\"] = lemmatized"
      ],
      "metadata": {
        "id": "piT_9Gt1sGeh"
      },
      "execution_count": null,
      "outputs": []
    },
    {
      "cell_type": "code",
      "source": [
        "#Usuwanie znaków interpunkcyjnych\n",
        "stopwords2 = ['.', ',', ':', '!', '?']\n",
        "SCreviews[\"Lemmatized\"] = list(filter(lambda w: w not in stopwords2, SCreviews[\"Lemmatized\"]))"
      ],
      "metadata": {
        "id": "vqNFYp8CsPhx"
      },
      "execution_count": null,
      "outputs": []
    },
    {
      "cell_type": "code",
      "source": [
        "#Otrzymany zbiór danych\n",
        "SCreviews.head()"
      ],
      "metadata": {
        "colab": {
          "base_uri": "https://localhost:8080/",
          "height": 289
        },
        "id": "ikYpDDO3seD1",
        "outputId": "5db70216-141a-49c4-82f2-597dacdf9f4a"
      },
      "execution_count": null,
      "outputs": [
        {
          "output_type": "execute_result",
          "data": {
            "text/plain": [
              "                                              Review  \\\n",
              "0  i was putting all my symptoms to check this ou...   \n",
              "1  this app, like most doctors, simply do not und...   \n",
              "2  i think it will be helpful. way better than do...   \n",
              "3  i will start by saying this is a great app and...   \n",
              "4  i was searching something up and came back to ...   \n",
              "\n",
              "                                   Title                        UserName  \\\n",
              "0                                Spot on                        rinilynn   \n",
              "1  Can’t Handle Multiple Health Problems                        PDF Paul   \n",
              "2                           It’s useful.                        KIMYKASK   \n",
              "3             Needs important piece.....                      RoBear7496   \n",
              "4           Doesn’t save or have history  attack helicopter with no name   \n",
              "\n",
              "   Rating       Date Sentiment  \\\n",
              "0       5 2022-04-23  Positive   \n",
              "1       4 2021-09-10  Positive   \n",
              "2       5 2021-08-06  Positive   \n",
              "3       4 2021-02-22  Positive   \n",
              "4       2 2021-12-09  Negative   \n",
              "\n",
              "                                        Preprocessed  \\\n",
              "0  putting symptoms check done certain area sympt...   \n",
              "1  app, like doctors, simply not understand peopl...   \n",
              "2  think helpful. way better internet search rand...   \n",
              "3  start saying great app useful deserves 4 stars...   \n",
              "4  searching something came back check things sai...   \n",
              "\n",
              "                                           Tokenized  \\\n",
              "0  [putting, symptoms, check, done, certain, area...   \n",
              "1  [app, ,, like, doctors, ,, simply, not, unders...   \n",
              "2  [think, helpful, ., way, better, internet, sea...   \n",
              "3  [start, saying, great, app, useful, deserves, ...   \n",
              "4  [searching, something, came, back, check, thin...   \n",
              "\n",
              "                                          Lemmatized  \n",
              "0  [put, symptom, check, do, certain, area, sympt...  \n",
              "1  [app, ,, like, doctor, ,, simply, not, underst...  \n",
              "2  [think, helpful, ., way, well, internet, searc...  \n",
              "3  [start, say, great, app, useful, deserves, 4, ...  \n",
              "4  [search, something, come, back, check, thing, ...  "
            ],
            "text/html": [
              "\n",
              "  <div id=\"df-7b0cbcf1-5c24-4493-977f-9ac2b61fc98c\" class=\"colab-df-container\">\n",
              "    <div>\n",
              "<style scoped>\n",
              "    .dataframe tbody tr th:only-of-type {\n",
              "        vertical-align: middle;\n",
              "    }\n",
              "\n",
              "    .dataframe tbody tr th {\n",
              "        vertical-align: top;\n",
              "    }\n",
              "\n",
              "    .dataframe thead th {\n",
              "        text-align: right;\n",
              "    }\n",
              "</style>\n",
              "<table border=\"1\" class=\"dataframe\">\n",
              "  <thead>\n",
              "    <tr style=\"text-align: right;\">\n",
              "      <th></th>\n",
              "      <th>Review</th>\n",
              "      <th>Title</th>\n",
              "      <th>UserName</th>\n",
              "      <th>Rating</th>\n",
              "      <th>Date</th>\n",
              "      <th>Sentiment</th>\n",
              "      <th>Preprocessed</th>\n",
              "      <th>Tokenized</th>\n",
              "      <th>Lemmatized</th>\n",
              "    </tr>\n",
              "  </thead>\n",
              "  <tbody>\n",
              "    <tr>\n",
              "      <th>0</th>\n",
              "      <td>i was putting all my symptoms to check this ou...</td>\n",
              "      <td>Spot on</td>\n",
              "      <td>rinilynn</td>\n",
              "      <td>5</td>\n",
              "      <td>2022-04-23</td>\n",
              "      <td>Positive</td>\n",
              "      <td>putting symptoms check done certain area sympt...</td>\n",
              "      <td>[putting, symptoms, check, done, certain, area...</td>\n",
              "      <td>[put, symptom, check, do, certain, area, sympt...</td>\n",
              "    </tr>\n",
              "    <tr>\n",
              "      <th>1</th>\n",
              "      <td>this app, like most doctors, simply do not und...</td>\n",
              "      <td>Can’t Handle Multiple Health Problems</td>\n",
              "      <td>PDF Paul</td>\n",
              "      <td>4</td>\n",
              "      <td>2021-09-10</td>\n",
              "      <td>Positive</td>\n",
              "      <td>app, like doctors, simply not understand peopl...</td>\n",
              "      <td>[app, ,, like, doctors, ,, simply, not, unders...</td>\n",
              "      <td>[app, ,, like, doctor, ,, simply, not, underst...</td>\n",
              "    </tr>\n",
              "    <tr>\n",
              "      <th>2</th>\n",
              "      <td>i think it will be helpful. way better than do...</td>\n",
              "      <td>It’s useful.</td>\n",
              "      <td>KIMYKASK</td>\n",
              "      <td>5</td>\n",
              "      <td>2021-08-06</td>\n",
              "      <td>Positive</td>\n",
              "      <td>think helpful. way better internet search rand...</td>\n",
              "      <td>[think, helpful, ., way, better, internet, sea...</td>\n",
              "      <td>[think, helpful, ., way, well, internet, searc...</td>\n",
              "    </tr>\n",
              "    <tr>\n",
              "      <th>3</th>\n",
              "      <td>i will start by saying this is a great app and...</td>\n",
              "      <td>Needs important piece.....</td>\n",
              "      <td>RoBear7496</td>\n",
              "      <td>4</td>\n",
              "      <td>2021-02-22</td>\n",
              "      <td>Positive</td>\n",
              "      <td>start saying great app useful deserves 4 stars...</td>\n",
              "      <td>[start, saying, great, app, useful, deserves, ...</td>\n",
              "      <td>[start, say, great, app, useful, deserves, 4, ...</td>\n",
              "    </tr>\n",
              "    <tr>\n",
              "      <th>4</th>\n",
              "      <td>i was searching something up and came back to ...</td>\n",
              "      <td>Doesn’t save or have history</td>\n",
              "      <td>attack helicopter with no name</td>\n",
              "      <td>2</td>\n",
              "      <td>2021-12-09</td>\n",
              "      <td>Negative</td>\n",
              "      <td>searching something came back check things sai...</td>\n",
              "      <td>[searching, something, came, back, check, thin...</td>\n",
              "      <td>[search, something, come, back, check, thing, ...</td>\n",
              "    </tr>\n",
              "  </tbody>\n",
              "</table>\n",
              "</div>\n",
              "    <div class=\"colab-df-buttons\">\n",
              "\n",
              "  <div class=\"colab-df-container\">\n",
              "    <button class=\"colab-df-convert\" onclick=\"convertToInteractive('df-7b0cbcf1-5c24-4493-977f-9ac2b61fc98c')\"\n",
              "            title=\"Convert this dataframe to an interactive table.\"\n",
              "            style=\"display:none;\">\n",
              "\n",
              "  <svg xmlns=\"http://www.w3.org/2000/svg\" height=\"24px\" viewBox=\"0 -960 960 960\">\n",
              "    <path d=\"M120-120v-720h720v720H120Zm60-500h600v-160H180v160Zm220 220h160v-160H400v160Zm0 220h160v-160H400v160ZM180-400h160v-160H180v160Zm440 0h160v-160H620v160ZM180-180h160v-160H180v160Zm440 0h160v-160H620v160Z\"/>\n",
              "  </svg>\n",
              "    </button>\n",
              "\n",
              "  <style>\n",
              "    .colab-df-container {\n",
              "      display:flex;\n",
              "      gap: 12px;\n",
              "    }\n",
              "\n",
              "    .colab-df-convert {\n",
              "      background-color: #E8F0FE;\n",
              "      border: none;\n",
              "      border-radius: 50%;\n",
              "      cursor: pointer;\n",
              "      display: none;\n",
              "      fill: #1967D2;\n",
              "      height: 32px;\n",
              "      padding: 0 0 0 0;\n",
              "      width: 32px;\n",
              "    }\n",
              "\n",
              "    .colab-df-convert:hover {\n",
              "      background-color: #E2EBFA;\n",
              "      box-shadow: 0px 1px 2px rgba(60, 64, 67, 0.3), 0px 1px 3px 1px rgba(60, 64, 67, 0.15);\n",
              "      fill: #174EA6;\n",
              "    }\n",
              "\n",
              "    .colab-df-buttons div {\n",
              "      margin-bottom: 4px;\n",
              "    }\n",
              "\n",
              "    [theme=dark] .colab-df-convert {\n",
              "      background-color: #3B4455;\n",
              "      fill: #D2E3FC;\n",
              "    }\n",
              "\n",
              "    [theme=dark] .colab-df-convert:hover {\n",
              "      background-color: #434B5C;\n",
              "      box-shadow: 0px 1px 3px 1px rgba(0, 0, 0, 0.15);\n",
              "      filter: drop-shadow(0px 1px 2px rgba(0, 0, 0, 0.3));\n",
              "      fill: #FFFFFF;\n",
              "    }\n",
              "  </style>\n",
              "\n",
              "    <script>\n",
              "      const buttonEl =\n",
              "        document.querySelector('#df-7b0cbcf1-5c24-4493-977f-9ac2b61fc98c button.colab-df-convert');\n",
              "      buttonEl.style.display =\n",
              "        google.colab.kernel.accessAllowed ? 'block' : 'none';\n",
              "\n",
              "      async function convertToInteractive(key) {\n",
              "        const element = document.querySelector('#df-7b0cbcf1-5c24-4493-977f-9ac2b61fc98c');\n",
              "        const dataTable =\n",
              "          await google.colab.kernel.invokeFunction('convertToInteractive',\n",
              "                                                    [key], {});\n",
              "        if (!dataTable) return;\n",
              "\n",
              "        const docLinkHtml = 'Like what you see? Visit the ' +\n",
              "          '<a target=\"_blank\" href=https://colab.research.google.com/notebooks/data_table.ipynb>data table notebook</a>'\n",
              "          + ' to learn more about interactive tables.';\n",
              "        element.innerHTML = '';\n",
              "        dataTable['output_type'] = 'display_data';\n",
              "        await google.colab.output.renderOutput(dataTable, element);\n",
              "        const docLink = document.createElement('div');\n",
              "        docLink.innerHTML = docLinkHtml;\n",
              "        element.appendChild(docLink);\n",
              "      }\n",
              "    </script>\n",
              "  </div>\n",
              "\n",
              "\n",
              "<div id=\"df-dc7628bf-a089-4019-9ae0-1173d4cc338d\">\n",
              "  <button class=\"colab-df-quickchart\" onclick=\"quickchart('df-dc7628bf-a089-4019-9ae0-1173d4cc338d')\"\n",
              "            title=\"Suggest charts.\"\n",
              "            style=\"display:none;\">\n",
              "\n",
              "<svg xmlns=\"http://www.w3.org/2000/svg\" height=\"24px\"viewBox=\"0 0 24 24\"\n",
              "     width=\"24px\">\n",
              "    <g>\n",
              "        <path d=\"M19 3H5c-1.1 0-2 .9-2 2v14c0 1.1.9 2 2 2h14c1.1 0 2-.9 2-2V5c0-1.1-.9-2-2-2zM9 17H7v-7h2v7zm4 0h-2V7h2v10zm4 0h-2v-4h2v4z\"/>\n",
              "    </g>\n",
              "</svg>\n",
              "  </button>\n",
              "\n",
              "<style>\n",
              "  .colab-df-quickchart {\n",
              "      --bg-color: #E8F0FE;\n",
              "      --fill-color: #1967D2;\n",
              "      --hover-bg-color: #E2EBFA;\n",
              "      --hover-fill-color: #174EA6;\n",
              "      --disabled-fill-color: #AAA;\n",
              "      --disabled-bg-color: #DDD;\n",
              "  }\n",
              "\n",
              "  [theme=dark] .colab-df-quickchart {\n",
              "      --bg-color: #3B4455;\n",
              "      --fill-color: #D2E3FC;\n",
              "      --hover-bg-color: #434B5C;\n",
              "      --hover-fill-color: #FFFFFF;\n",
              "      --disabled-bg-color: #3B4455;\n",
              "      --disabled-fill-color: #666;\n",
              "  }\n",
              "\n",
              "  .colab-df-quickchart {\n",
              "    background-color: var(--bg-color);\n",
              "    border: none;\n",
              "    border-radius: 50%;\n",
              "    cursor: pointer;\n",
              "    display: none;\n",
              "    fill: var(--fill-color);\n",
              "    height: 32px;\n",
              "    padding: 0;\n",
              "    width: 32px;\n",
              "  }\n",
              "\n",
              "  .colab-df-quickchart:hover {\n",
              "    background-color: var(--hover-bg-color);\n",
              "    box-shadow: 0 1px 2px rgba(60, 64, 67, 0.3), 0 1px 3px 1px rgba(60, 64, 67, 0.15);\n",
              "    fill: var(--button-hover-fill-color);\n",
              "  }\n",
              "\n",
              "  .colab-df-quickchart-complete:disabled,\n",
              "  .colab-df-quickchart-complete:disabled:hover {\n",
              "    background-color: var(--disabled-bg-color);\n",
              "    fill: var(--disabled-fill-color);\n",
              "    box-shadow: none;\n",
              "  }\n",
              "\n",
              "  .colab-df-spinner {\n",
              "    border: 2px solid var(--fill-color);\n",
              "    border-color: transparent;\n",
              "    border-bottom-color: var(--fill-color);\n",
              "    animation:\n",
              "      spin 1s steps(1) infinite;\n",
              "  }\n",
              "\n",
              "  @keyframes spin {\n",
              "    0% {\n",
              "      border-color: transparent;\n",
              "      border-bottom-color: var(--fill-color);\n",
              "      border-left-color: var(--fill-color);\n",
              "    }\n",
              "    20% {\n",
              "      border-color: transparent;\n",
              "      border-left-color: var(--fill-color);\n",
              "      border-top-color: var(--fill-color);\n",
              "    }\n",
              "    30% {\n",
              "      border-color: transparent;\n",
              "      border-left-color: var(--fill-color);\n",
              "      border-top-color: var(--fill-color);\n",
              "      border-right-color: var(--fill-color);\n",
              "    }\n",
              "    40% {\n",
              "      border-color: transparent;\n",
              "      border-right-color: var(--fill-color);\n",
              "      border-top-color: var(--fill-color);\n",
              "    }\n",
              "    60% {\n",
              "      border-color: transparent;\n",
              "      border-right-color: var(--fill-color);\n",
              "    }\n",
              "    80% {\n",
              "      border-color: transparent;\n",
              "      border-right-color: var(--fill-color);\n",
              "      border-bottom-color: var(--fill-color);\n",
              "    }\n",
              "    90% {\n",
              "      border-color: transparent;\n",
              "      border-bottom-color: var(--fill-color);\n",
              "    }\n",
              "  }\n",
              "</style>\n",
              "\n",
              "  <script>\n",
              "    async function quickchart(key) {\n",
              "      const quickchartButtonEl =\n",
              "        document.querySelector('#' + key + ' button');\n",
              "      quickchartButtonEl.disabled = true;  // To prevent multiple clicks.\n",
              "      quickchartButtonEl.classList.add('colab-df-spinner');\n",
              "      try {\n",
              "        const charts = await google.colab.kernel.invokeFunction(\n",
              "            'suggestCharts', [key], {});\n",
              "      } catch (error) {\n",
              "        console.error('Error during call to suggestCharts:', error);\n",
              "      }\n",
              "      quickchartButtonEl.classList.remove('colab-df-spinner');\n",
              "      quickchartButtonEl.classList.add('colab-df-quickchart-complete');\n",
              "    }\n",
              "    (() => {\n",
              "      let quickchartButtonEl =\n",
              "        document.querySelector('#df-dc7628bf-a089-4019-9ae0-1173d4cc338d button');\n",
              "      quickchartButtonEl.style.display =\n",
              "        google.colab.kernel.accessAllowed ? 'block' : 'none';\n",
              "    })();\n",
              "  </script>\n",
              "</div>\n",
              "    </div>\n",
              "  </div>\n"
            ]
          },
          "metadata": {},
          "execution_count": 24
        }
      ]
    },
    {
      "cell_type": "code",
      "source": [
        "#Wykres osi czasu\n",
        "SCreviews2 = SCreviews[['Date', 'Sentiment']].copy()\n",
        "SCreviews2['Positive'] = np.where(SCreviews2['Sentiment'] == 'Positive' , 1, 0)\n",
        "SCreviews2['Negative'] = np.where(SCreviews2['Sentiment'] == 'Negative' , 1, 0)\n",
        "SCreviews2['Neutral'] = np.where(SCreviews2['Sentiment'] == 'Neutral' , 1, 0)\n",
        "result = SCreviews2.groupby(SCreviews2.Date.dt.year).agg({'Positive': 'sum', 'Negative': 'sum', 'Neutral': 'sum'})\n",
        "plt.plot(result.index, result['Positive'], label = 'Pozytywne')\n",
        "plt.plot(result.index, result['Negative'], label = 'Negatywne')\n",
        "plt.plot(result.index, result['Neutral'], label = 'Neutralne')\n",
        "plt.xlabel('Data', fontsize=10)\n",
        "plt.ylabel('Liczba recenzji', fontsize=10)\n",
        "plt.title('Liczba wystawianych recenzji na przestrzeni czasu')\n",
        "plt.legend()\n",
        "plt.show()\n",
        "#plt.savefig(\"TimelineF.png\")"
      ],
      "metadata": {
        "id": "IxQaMLQFsjsM"
      },
      "execution_count": null,
      "outputs": []
    },
    {
      "cell_type": "markdown",
      "source": [
        "### Analiza częstotliwości słów"
      ],
      "metadata": {
        "id": "j7Kv7c5x18BJ"
      }
    },
    {
      "cell_type": "code",
      "source": [
        "#Ustalanie najczęściej pojawiających się pozytywnych słów\n",
        "Positives = SCreviews[SCreviews['Sentiment']=='Positive'].reset_index()\n",
        "all_positive_words=[]\n",
        "\n",
        "for i in range(len(Positives['Lemmatized'])):\n",
        "    a=Positives['Lemmatized'][i]\n",
        "\n",
        "    for i in a:\n",
        "        all_positive_words.append(i)\n",
        "\n",
        "all_positive_words=pd.Series(np.array(all_positive_words))"
      ],
      "metadata": {
        "id": "MNrpkJfIuTO6"
      },
      "execution_count": null,
      "outputs": []
    },
    {
      "cell_type": "code",
      "source": [
        "stopwords2 = ['.', ',', ':', '!', 'app', 'symptom', 'not', 'no', '?']\n",
        "new_words_positive = list(filter(lambda w: w not in stopwords2, all_positive_words))\n",
        "print(Counter(new_words_positive).most_common(40))"
      ],
      "metadata": {
        "colab": {
          "base_uri": "https://localhost:8080/"
        },
        "id": "PvovgCIEuWAz",
        "outputId": "31825520-db5f-4994-c5c9-09904dc49f90"
      },
      "execution_count": null,
      "outputs": [
        {
          "output_type": "stream",
          "name": "stdout",
          "text": [
            "[('good', 118), ('great', 104), ('use', 70), ('doctor', 63), ('helpful', 59), ('give', 57), ('accurate', 52), ('like', 51), ('diagnosis', 46), ('help', 46), ('easy', 45), (':star-struck', 42), ('get', 41), ('love', 39), ('useful', 37), ('really', 37), ('one', 35), ('need', 35), ('question', 35), ('nice', 34), ('well', 34), ('go', 33), ('work', 31), ('see', 30), ('would', 29), ('say', 27), ('best', 27), (')', 26), ('result', 26), ('thanks', 25), ('health', 24), ('right', 24), ('medical', 24), ('it', 24), ('pretty', 23), ('amaze', 22), ('awesome', 21), ('recommend', 20), ('possible', 19), ('problem', 18)]\n"
          ]
        }
      ]
    },
    {
      "cell_type": "code",
      "source": [
        "plt.figure(figsize = (20,20))\n",
        "wc_positive = WordCloud(max_words = 100 , width = 1600 , height = 800,\n",
        "               collocations=False, background_color=\"white\").generate(\" \".join(new_words_positive))\n",
        "plt.axis(\"off\")\n",
        "plt.imshow(wc_positive)\n",
        "#plt.savefig(\"PositiveWC.png\")"
      ],
      "metadata": {
        "id": "UnR-tgneua9f"
      },
      "execution_count": null,
      "outputs": []
    },
    {
      "cell_type": "code",
      "source": [
        "#Ustalanie najczęściej pojawiających się negatywnych słów\n",
        "Negatives = SCreviews[SCreviews['Sentiment']=='Negative'].reset_index()\n",
        "all_negative_words=[]\n",
        "\n",
        "for i in range(len(Negatives['Lemmatized'])):\n",
        "    a=Negatives['Lemmatized'][i]\n",
        "\n",
        "    for i in a:\n",
        "        all_negative_words.append(i)\n",
        "\n",
        "all_negative_words=pd.Series(np.array(all_negative_words))\n",
        "\n",
        "new_words_negative = list(filter(lambda w: w not in stopwords2, all_negative_words))\n",
        "print(Counter(new_words_negative).most_common(40))"
      ],
      "metadata": {
        "colab": {
          "base_uri": "https://localhost:8080/"
        },
        "id": "E0keBhf3ule0",
        "outputId": "6d2a8d23-bb3c-47aa-d7a6-031fc5e88e02"
      },
      "execution_count": null,
      "outputs": [
        {
          "output_type": "stream",
          "name": "stdout",
          "text": [
            "[('time', 11), ('like', 11), ('say', 10), ('try', 10), ('give', 10), ('could', 9), ('result', 9), ('get', 9), ('would', 8), ('even', 8), ('can', 8), ('need', 7), ('go', 7), ('waste', 7), ('ask', 7), ('it', 6), ('work', 6), ('question', 6), ('diagnosis', 6), ('add', 6), ('make', 6), ('check', 5), ('many', 5), ('let', 5), ('put', 5), ('useless', 5), ('keep', 5), ('answer', 5), ('suggestion', 5), ('nothing', 5), ('internet', 5), ('suck', 5), ('``', 4), (\"''\", 4), ('one', 4), ('accurate', 4), ('also', 4), ('list', 4), ('google', 4), ('use', 4)]\n"
          ]
        }
      ]
    },
    {
      "cell_type": "code",
      "source": [
        "plt.figure(figsize = (20,20))\n",
        "wc_negative = WordCloud(max_words = 100 , width = 1600 , height = 800,\n",
        "               collocations=False, background_color=\"white\").generate(\" \".join(new_words_negative))\n",
        "plt.axis(\"off\")\n",
        "plt.imshow(wc_negative)\n",
        "#plt.savefig(\"NegativeWC.png\")"
      ],
      "metadata": {
        "id": "TGpHHZKFuqKl"
      },
      "execution_count": null,
      "outputs": []
    },
    {
      "cell_type": "code",
      "source": [
        "#Ustalanie najczęściej pojawiających się neutralnych słów\n",
        "Neutrals = SCreviews[SCreviews['Sentiment']=='Neutral'].reset_index()\n",
        "all_neutral_words=[]\n",
        "\n",
        "for i in range(len(Neutrals['Lemmatized'])):\n",
        "    a=Neutrals['Lemmatized'][i]\n",
        "\n",
        "    for i in a:\n",
        "        all_neutral_words.append(i)\n",
        "\n",
        "all_neutral_words=pd.Series(np.array(all_neutral_words))\n",
        "\n",
        "new_words_neutral = list(filter(lambda w: w not in stopwords2, all_neutral_words))\n",
        "print(Counter(new_words_neutral).most_common(20))"
      ],
      "metadata": {
        "colab": {
          "base_uri": "https://localhost:8080/"
        },
        "id": "BexkMTDPuwGR",
        "outputId": "561ae17e-4def-4141-ed66-f982308c1b31"
      },
      "execution_count": null,
      "outputs": [
        {
          "output_type": "stream",
          "name": "stdout",
          "text": [
            "[('good', 7), ('question', 7), ('use', 6), ('try', 5), ('heart', 5), ('think', 4), ('add', 4), ('pain', 4), ('help', 4), ('result', 4), ('can', 4), ('ask', 4), ('like', 4), ('need', 3), ('update', 3), ('easy', 3), ('seem', 3), ('cancer', 3), ('age', 3), ('well', 3)]\n"
          ]
        }
      ]
    },
    {
      "cell_type": "code",
      "source": [
        "plt.figure(figsize = (20,20))\n",
        "wc_neutral = WordCloud(max_words = 100 , width = 1600 , height = 800,\n",
        "               collocations=False, background_color=\"white\").generate(\" \".join(new_words_neutral))\n",
        "plt.axis(\"off\")\n",
        "plt.imshow(wc_neutral)\n",
        "#plt.savefig(\"NeutralWC.png\")"
      ],
      "metadata": {
        "id": "tFOwuG2qu2E4"
      },
      "execution_count": null,
      "outputs": []
    },
    {
      "cell_type": "code",
      "source": [
        "#Słowa powtarzalne we wszystkich kategoriach sentymentu\n",
        "new_words_negative=pd.Series(np.array(new_words_negative))\n",
        "common=set(new_words_positive).intersection(set(new_words_negative)).intersection(set(new_words_neutral))\n",
        "common_list=list(common)\n",
        "print(Counter(common_list).most_common(20))"
      ],
      "metadata": {
        "colab": {
          "base_uri": "https://localhost:8080/"
        },
        "id": "9xjMzkuBu7wf",
        "outputId": "669fd460-3ce2-4a38-cd6f-e0f80fa6d6c1"
      },
      "execution_count": null,
      "outputs": [
        {
          "output_type": "stream",
          "name": "stdout",
          "text": [
            "[('%', 1), ('internet', 1), ('many', 1), ('base', 1), ('let', 1), ('provide', 1), ('actually', 1), ('question', 1), ('need', 1), ('time', 1), ('one', 1), ('say', 1), ('like', 1), ('day', 1), ('etc', 1), ('would', 1), ('option', 1), ('specialist', 1), ('go', 1), ('list', 1)]\n"
          ]
        }
      ]
    },
    {
      "cell_type": "code",
      "source": [
        "plt.figure(figsize = (20,20))\n",
        "wc_common = WordCloud(max_words = 100 , width = 1600 , height = 800,\n",
        "               collocations=False, background_color=\"white\").generate(\" \".join(common_list))\n",
        "plt.axis(\"off\")\n",
        "plt.imshow(wc_common)\n",
        "#plt.savefig(\"CommonWC.png\")"
      ],
      "metadata": {
        "id": "JDj-bAonvHt2"
      },
      "execution_count": null,
      "outputs": []
    },
    {
      "cell_type": "markdown",
      "source": [
        "### Klasyfikacja emocji"
      ],
      "metadata": {
        "id": "0SDRtWzr2C9X"
      }
    },
    {
      "cell_type": "code",
      "source": [
        "#Klasyfikacja emocji\n",
        "Words = SCreviews['Lemmatized'].reset_index()\n",
        "all_words=[]\n",
        "\n",
        "for i in range(len(Words['Lemmatized'])):\n",
        "    a=Words['Lemmatized'][i]\n",
        "\n",
        "    for i in a:\n",
        "        all_words.append(i)\n",
        "\n",
        "all_words=pd.Series(np.array(all_words))"
      ],
      "metadata": {
        "id": "IVFGNU9cvROT"
      },
      "execution_count": null,
      "outputs": []
    },
    {
      "cell_type": "code",
      "source": [
        "all_words = list(set(all_words))"
      ],
      "metadata": {
        "id": "nBKt_hkvvW2h"
      },
      "execution_count": null,
      "outputs": []
    },
    {
      "cell_type": "code",
      "source": [
        "for i in range(len(all_words)):\n",
        "    emotion = NRCLex(all_words[i])\n",
        "    print('\\n\\n', all_words[i], ': ', emotion.top_emotions)"
      ],
      "metadata": {
        "id": "dzwLf7X7vbAR"
      },
      "execution_count": null,
      "outputs": []
    },
    {
      "cell_type": "code",
      "source": [
        "for i in range(len(all_words)):\n",
        "    affect = NRCLex(all_words[i])\n",
        "    print('\\n\\n', affect.affect_dict)"
      ],
      "metadata": {
        "id": "x9_qXTzzvfQB"
      },
      "execution_count": null,
      "outputs": []
    },
    {
      "cell_type": "code",
      "source": [
        "str_tweet = ','.join(all_words)\n",
        "text_object = NRCLex(str_tweet)"
      ],
      "metadata": {
        "id": "RtQwimSWvg6p"
      },
      "execution_count": null,
      "outputs": []
    },
    {
      "cell_type": "code",
      "source": [
        "#Liczbowe podsumowanie emocji\n",
        "data = text_object.raw_emotion_scores\n",
        "data"
      ],
      "metadata": {
        "colab": {
          "base_uri": "https://localhost:8080/"
        },
        "id": "YZQ-TkvnvjSn",
        "outputId": "3e8bb857-a222-4e0a-966e-51c5032111f7"
      },
      "execution_count": null,
      "outputs": [
        {
          "output_type": "execute_result",
          "data": {
            "text/plain": [
              "{'anticipation': 85,\n",
              " 'fear': 87,\n",
              " 'surprise': 43,\n",
              " 'anger': 56,\n",
              " 'negative': 146,\n",
              " 'sadness': 68,\n",
              " 'disgust': 42,\n",
              " 'positive': 166,\n",
              " 'joy': 60,\n",
              " 'trust': 111}"
            ]
          },
          "metadata": {},
          "execution_count": 44
        }
      ]
    },
    {
      "cell_type": "code",
      "source": [
        "#Liczbowe podsumowanie emocji w formie tabeli\n",
        "emotion_df = pd.DataFrame.from_dict(data, orient='index')\n",
        "emotion_df = emotion_df.reset_index()\n",
        "emotion_df = emotion_df.rename(columns={'index' : 'Emotion Classification' , 0: 'Emotion Count'})\n",
        "emotion_df = emotion_df.sort_values(by=['Emotion Count'], ascending=False)\n",
        "emotion_df = emotion_df.replace(['positive'], 'pozytywne')\n",
        "emotion_df = emotion_df.replace(['negative'], 'negatywne')\n",
        "emotion_df = emotion_df.replace(['trust'], 'zaufanie')\n",
        "emotion_df = emotion_df.replace(['fear'], 'strach')\n",
        "emotion_df = emotion_df.replace(['anticipation'], 'oczekiwanie')\n",
        "emotion_df = emotion_df.replace(['joy'], 'radość')\n",
        "emotion_df = emotion_df.replace(['anger'], 'złość')\n",
        "emotion_df = emotion_df.replace(['disgust'], 'zniesmaczenie')\n",
        "emotion_df = emotion_df.replace(['surprise'], 'zaskoczenie')\n",
        "emotion_df = emotion_df.replace(['sadness'], 'smutek')\n",
        "emotion_df"
      ],
      "metadata": {
        "id": "vNvGYi1Kvj7g"
      },
      "execution_count": null,
      "outputs": []
    },
    {
      "cell_type": "code",
      "source": [
        "#Wykres klasyfikacji emocji\n",
        "fig = px.bar(emotion_df, x='Emotion Count', y='Emotion Classification', color = 'Emotion Classification', orientation='h', width = 800, height = 400,\n",
        "            title=\"Klasyfikacja emocji\", labels={\"Emotion Count\": \"Liczba słów\", \"Emotion Classification\":\"Emocje\"})\n",
        "fig.show()\n",
        "#fig.savefig(\"EmotionClass.png\")"
      ],
      "metadata": {
        "id": "DgKZ_Uaxvqvc"
      },
      "execution_count": null,
      "outputs": []
    },
    {
      "cell_type": "markdown",
      "source": [
        "### Model VADER"
      ],
      "metadata": {
        "id": "YVZxzjUh2JtT"
      }
    },
    {
      "cell_type": "code",
      "source": [
        "#Obliczanie polaryzacji\n",
        "sentiments = SentimentIntensityAnalyzer()\n",
        "SCreviews[\"Positive\"] = [sentiments.polarity_scores(i)[\"pos\"] for i in SCreviews[\"Review\"]]\n",
        "SCreviews[\"Negative\"] = [sentiments.polarity_scores(i)[\"neg\"] for i in SCreviews[\"Review\"]]\n",
        "SCreviews[\"Neutral\"] = [sentiments.polarity_scores(i)[\"neu\"] for i in SCreviews[\"Review\"]]\n",
        "SCreviews['Compound'] = [sentiments.polarity_scores(i)[\"compound\"] for i in SCreviews[\"Review\"]]"
      ],
      "metadata": {
        "id": "RmjV1OV6wf7g"
      },
      "execution_count": null,
      "outputs": []
    },
    {
      "cell_type": "code",
      "source": [
        "SCreviews.head()"
      ],
      "metadata": {
        "id": "3H9P_ZMRwusQ"
      },
      "execution_count": null,
      "outputs": []
    },
    {
      "cell_type": "code",
      "source": [
        "SCreviews[\"Compound\"].max()"
      ],
      "metadata": {
        "colab": {
          "base_uri": "https://localhost:8080/"
        },
        "id": "LpAJs61pwv59",
        "outputId": "b50ebb47-0b72-4933-f04c-7c5409210ac8"
      },
      "execution_count": null,
      "outputs": [
        {
          "output_type": "execute_result",
          "data": {
            "text/plain": [
              "0.976"
            ]
          },
          "metadata": {},
          "execution_count": 54
        }
      ]
    },
    {
      "cell_type": "code",
      "source": [
        "#Przypisanie sentymentu\n",
        "score = SCreviews[\"Compound\"].values\n",
        "sentiment = []\n",
        "for i in score:\n",
        "    if i >= 0.05 :\n",
        "        sentiment.append('Positive')\n",
        "    elif i <= -0.05 :\n",
        "        sentiment.append('Negative')\n",
        "    else:\n",
        "        sentiment.append('Neutral')\n",
        "SCreviews[\"VADER_Sentiment\"] = sentiment\n",
        "SCreviews.head()"
      ],
      "metadata": {
        "id": "Ca8ynrnMwyQq"
      },
      "execution_count": null,
      "outputs": []
    },
    {
      "cell_type": "code",
      "source": [
        "#Wykres oszacowania wyniku złożonego dla każdej oceny\n",
        "ax = sns.barplot(data=SCreviews, x='Rating', y='Compound')\n",
        "ax.set_title('Wynik złożony według wystawianych ocen')\n",
        "ax.set(xlabel = 'Ocena', ylabel = 'Wynik złożony')\n",
        "#plt.savefig(\"Compound.png\")"
      ],
      "metadata": {
        "id": "5MRdBBX6w0m7"
      },
      "execution_count": null,
      "outputs": []
    },
    {
      "cell_type": "code",
      "source": [
        "#Wykres oszacowania wyniku złożonego dla każdej oceny i sentymentu\n",
        "fig, axs = plt.subplots(1,3, figsize=(15,5))\n",
        "sns.barplot(data=SCreviews, x='Rating', y='Positive', ax=axs[0])\n",
        "sns.barplot(data=SCreviews, x='Rating', y='Neutral', ax=axs[1])\n",
        "sns.barplot(data=SCreviews, x='Rating', y='Negative', ax=axs[2])\n",
        "axs[0].set_title('Sentyment pozytywny')\n",
        "axs[1].set_title('Sentyment neutralny')\n",
        "axs[2].set_title('Sentyment negatywny')\n",
        "axs[0].set(xlabel = 'Ocena', ylabel = 'Wynik złożony')\n",
        "axs[1].set(xlabel = 'Ocena', ylabel = 'Wynik złożony')\n",
        "axs[2].set(xlabel = 'Ocena', ylabel = 'Wynik złożony')\n",
        "plt.tight_layout()\n",
        "#plt.savefig(\"Sentiments.png\")"
      ],
      "metadata": {
        "id": "2a4xdze3w19p"
      },
      "execution_count": null,
      "outputs": []
    },
    {
      "cell_type": "code",
      "source": [
        "#Wykres punktowy sentymentu\n",
        "sns.FacetGrid(SCreviews, hue = 'VADER_Sentiment') \\\n",
        "   .map(plt.scatter, \"Positive\", \"Negative\", \"Neutral\") \\\n",
        "   .add_legend(labels = ['Pozytywny', 'Negatywny', 'Neutralny'], title = 'Sentyment')\n",
        "plt.title('Wykres punktowy przewidywanych sentymentów', fontsize = 12)\n",
        "plt.xlabel(\"Wynik pozytwyny\")\n",
        "plt.ylabel(\"Wynik negatwny\")\n",
        "plt.figsize=(15,15)\n",
        "plt.show()\n",
        "#plt.savefig(\"Scatter.png\")"
      ],
      "metadata": {
        "id": "wyPf9s6Jw63P"
      },
      "execution_count": null,
      "outputs": []
    },
    {
      "cell_type": "code",
      "source": [
        "#Wykres pudełkowy sentymentu\n",
        "ax= sns.boxplot(x=\"VADER_Sentiment\", y=\"Compound\", data=SCreviews)\n",
        "ax= sns.stripplot(x=\"VADER_Sentiment\", y=\"Compound\", data=SCreviews, jitter=True, edgecolor=\"gray\")\n",
        "plt.show()"
      ],
      "metadata": {
        "id": "ebptFz_tw7bP"
      },
      "execution_count": null,
      "outputs": []
    },
    {
      "cell_type": "code",
      "source": [
        "#Histogram przewidywań pozytywnych\n",
        "rslt_df = SCreviews[SCreviews['VADER_Sentiment'] == 'Positive']\n",
        "sns.displot(rslt_df[\"Compound\"],kde=True)\n",
        "plt.ylabel(\"Liczba przewidywań\")\n",
        "plt.xlabel(\"Wynik złożony\")\n",
        "plt.title(\"Histogram przewidywań pozytywnych\")\n",
        "plt.show()\n",
        "#plt.savefig(\"PosHist.png\")"
      ],
      "metadata": {
        "id": "TdNvPdkSw_DP"
      },
      "execution_count": null,
      "outputs": []
    },
    {
      "cell_type": "code",
      "source": [
        "#Histogram przewidywań negatywnych\n",
        "rslt_df2 = SCreviews[SCreviews['VADER_Sentiment'] == 'Negative']\n",
        "sns.displot(rslt_df2[\"Compound\"],kde=True)\n",
        "plt.ylabel(\"Liczba przewidywań\")\n",
        "plt.xlabel(\"Wynik złożony\")\n",
        "plt.title(\"Histogram przewidywań negatywnych\")\n",
        "plt.show()\n",
        "#plt.savefig(\"NegHist.png\")"
      ],
      "metadata": {
        "id": "lCXJ4G3IxA0O"
      },
      "execution_count": null,
      "outputs": []
    },
    {
      "cell_type": "code",
      "source": [
        "#Histogram przewidywań neutralnych\n",
        "rslt_df3 = SCreviews[SCreviews['VADER_Sentiment'] == 'Neutral']\n",
        "sns.displot(rslt_df3[\"Compound\"],kde=True)\n",
        "plt.ylabel(\"Liczba przewidywań\")\n",
        "plt.xlabel(\"Wynik złożony\")\n",
        "plt.title(\"Histogram przewidywań neutralnych\")\n",
        "plt.show()\n",
        "#plt.savefig(\"NeuHist.png\")"
      ],
      "metadata": {
        "id": "JZVdjfDSxChk"
      },
      "execution_count": null,
      "outputs": []
    },
    {
      "cell_type": "code",
      "source": [
        "#Liczby poszczególnych ptzewidywań\n",
        "SCreviews.VADER_Sentiment.value_counts()"
      ],
      "metadata": {
        "id": "rwGvMRuIxFKp"
      },
      "execution_count": null,
      "outputs": []
    },
    {
      "cell_type": "code",
      "source": [
        "#Macierz błędu\n",
        "cm = confusion_matrix(SCreviews['Sentiment'], SCreviews['VADER_Sentiment'])\n",
        "cm_df = pd.DataFrame(cm,\n",
        "                     index = ['Negatywne','Neutralne','Pozytywne'],\n",
        "                     columns = ['Negatywne','Neutralne','Pozytywne'])\n",
        "plt.figure(figsize=(5,4))\n",
        "sns.heatmap(cm_df, annot=True, fmt=\"d\", cmap = 'viridis')\n",
        "plt.title('Macierz błędu modelu VADER')\n",
        "plt.ylabel('Wartości rzeczywiste')\n",
        "plt.xlabel('Wartości przewidywane')\n",
        "#plt.show()\n",
        "plt.savefig(\"CM_VADER.png\")"
      ],
      "metadata": {
        "colab": {
          "base_uri": "https://localhost:8080/",
          "height": 411
        },
        "id": "m46_xmugxZrB",
        "outputId": "0a900758-31b4-477a-fc15-5a357eb2f77c"
      },
      "execution_count": null,
      "outputs": [
        {
          "output_type": "display_data",
          "data": {
            "text/plain": [
              "<Figure size 500x400 with 2 Axes>"
            ],
            "image/png": "[encoded data removed]"
          },
          "metadata": {}
        }
      ]
    },
    {
      "cell_type": "code",
      "source": [
        "#Dokładność i raport klasyfikacji\n",
        "accuracy = accuracy_score(SCreviews['Sentiment'], SCreviews['VADER_Sentiment'])\n",
        "\n",
        "print(\"Accuracy: {}\\n\".format(accuracy))\n",
        "\n",
        "print(classification_report(SCreviews['Sentiment'], SCreviews['VADER_Sentiment']))"
      ],
      "metadata": {
        "id": "1ICSICttxFdu"
      },
      "execution_count": null,
      "outputs": []
    },
    {
      "cell_type": "markdown",
      "source": [
        "### Analiza oparta na aspektach"
      ],
      "metadata": {
        "id": "2CRcsFSZ2NXC"
      }
    },
    {
      "cell_type": "code",
      "source": [
        "#Analiza aspektu\n",
        "df = SCreviews.copy()\n",
        "df = df[['Review', 'Lemmatized', 'Rating', 'VADER_Sentiment']]"
      ],
      "metadata": {
        "id": "K72T33gLyZjO"
      },
      "execution_count": null,
      "outputs": []
    },
    {
      "cell_type": "code",
      "source": [
        "data_words = df['Lemmatized'].values.tolist()\n",
        "len(data_words)"
      ],
      "metadata": {
        "colab": {
          "base_uri": "https://localhost:8080/"
        },
        "id": "2-iQC5DEylhX",
        "outputId": "653bf4e7-6413-4886-eaaa-cd036ffdc145"
      },
      "execution_count": null,
      "outputs": [
        {
          "output_type": "execute_result",
          "data": {
            "text/plain": [
              "867"
            ]
          },
          "metadata": {},
          "execution_count": 119
        }
      ]
    },
    {
      "cell_type": "code",
      "source": [
        "#Stworzenie słownika - term document frequency\n",
        "id2word = corpora.Dictionary(data_words)\n",
        "texts = data_words\n",
        "corpus = [id2word.doc2bow(text) for text in texts]\n",
        "print(corpus[:1][0][:30])"
      ],
      "metadata": {
        "id": "SKZz5AuYzWkS"
      },
      "execution_count": null,
      "outputs": []
    },
    {
      "cell_type": "code",
      "source": [
        "#Model LDA\n",
        "num_topics = 10\n",
        "lda_model = LdaMulticore(corpus=corpus, id2word=id2word,\n",
        "                     num_topics=num_topics, iterations=400)\n",
        "pprint(lda_model.print_topics())\n",
        "doc_lda = lda_model[corpus]"
      ],
      "metadata": {
        "id": "7iqyesGyzjmt"
      },
      "execution_count": null,
      "outputs": []
    },
    {
      "cell_type": "code",
      "source": [
        "#Budowa modelu FastText\n",
        "%%time\n",
        "fasttext_model = FastText(data_words, vector_size= 100, window=5, min_count=5, workers=4,sg=1)"
      ],
      "metadata": {
        "id": "6o-FT0Kfz0JL"
      },
      "execution_count": null,
      "outputs": []
    },
    {
      "cell_type": "code",
      "source": [
        "fasttext_model.save(\"FastText-Model-For-ABSA.bin\")"
      ],
      "metadata": {
        "id": "aKqqUVmkz6ts"
      },
      "execution_count": null,
      "outputs": []
    },
    {
      "cell_type": "code",
      "source": [
        "#Zdefiniowanie aspektów i obliczenie podobnieństwa każdego z nich dla poszczególnych recenzji\n",
        "aspects = [\"diagnosis\", \"symptom\", \"app\", \"answer\", \"question\", \"doctor\"]\n",
        "\n",
        "def get_similarity(text, aspect):\n",
        "    try:\n",
        "        text = \" \".join(text)\n",
        "        return fasttext_model.wv.n_similarity(text, aspect)\n",
        "    except:\n",
        "        return 0"
      ],
      "metadata": {
        "id": "vtj9igacz7Fk"
      },
      "execution_count": null,
      "outputs": []
    },
    {
      "cell_type": "code",
      "source": [
        "#fasttext_model.wv.n_similarity(\"great app for everyone\", \"question\")"
      ],
      "metadata": {
        "id": "WG61g9R8z823"
      },
      "execution_count": null,
      "outputs": []
    },
    {
      "cell_type": "code",
      "source": [
        "tqdm.pandas()\n",
        "for aspect in aspects:\n",
        "    df[aspect] = df['Lemmatized'].progress_map(lambda text: get_similarity(text, aspect))"
      ],
      "metadata": {
        "id": "xsgD2fbT0ADv"
      },
      "execution_count": null,
      "outputs": []
    },
    {
      "cell_type": "code",
      "source": [
        "#Wyznaczenie najbardziej podobnego aspektu\n",
        "df[\"Best_aspect\"] = df[[\"diagnosis\", \"symptom\", \"app\", \"answer\", \"question\", \"doctor\"]].apply(lambda x: x.idxmax(), axis=1)"
      ],
      "metadata": {
        "id": "IrLyYGvf0DGH"
      },
      "execution_count": null,
      "outputs": []
    },
    {
      "cell_type": "code",
      "source": [
        "def set_aspect_sentiment(row):\n",
        "    if row[\"VADER_Sentiment\"] == 'Positive':\n",
        "        return \"positively\"\n",
        "    elif row[\"VADER_Sentiment\"] == 'Negative':\n",
        "        return \"negatively\"\n",
        "    elif row[\"VADER_Sentiment\"] == 'Neutral':\n",
        "        return \"neutrally\"\n",
        "\n",
        "df = df.assign(Aspect_sentiment=df.apply(set_aspect_sentiment, axis=1))"
      ],
      "metadata": {
        "id": "Aub8_0Yg0EqA"
      },
      "execution_count": null,
      "outputs": []
    },
    {
      "cell_type": "code",
      "source": [
        "for i in range(len(df)):\n",
        "  df[\"Aspect\"] = 'The reviewer talks ' + df['Aspect_sentiment'].astype(str) + ' about the ' + df['Best_aspect'].astype(str)\n",
        "df.head()"
      ],
      "metadata": {
        "id": "gdWRimQZ0Gpy"
      },
      "execution_count": null,
      "outputs": []
    },
    {
      "cell_type": "code",
      "source": [
        "#Podsumowanie liczbowe kazdego aspektu\n",
        "df['Aspect'].value_counts()"
      ],
      "metadata": {
        "id": "fmhoZBSQ0MKL"
      },
      "execution_count": null,
      "outputs": []
    },
    {
      "cell_type": "code",
      "source": [
        "df_temp = df[['Best_aspect', 'Aspect_sentiment']].copy()\n",
        "print(df_temp)"
      ],
      "metadata": {
        "id": "HakT0uN20N5z"
      },
      "execution_count": null,
      "outputs": []
    },
    {
      "cell_type": "code",
      "source": [
        "#Utworzenie osobnhych ramek danych dla poszczególnych sentymentów\n",
        "df_temp_pos = df_temp[df_temp['Aspect_sentiment']=='positively'].reset_index()\n",
        "df_temp_neg = df_temp[df_temp['Aspect_sentiment']=='negatively'].reset_index()\n",
        "df_temp_neu = df_temp[df_temp['Aspect_sentiment']=='neutrally'].reset_index()"
      ],
      "metadata": {
        "id": "X6F_A-fF0OjT"
      },
      "execution_count": null,
      "outputs": []
    },
    {
      "cell_type": "code",
      "source": [
        "#Wykres slupokowy poszczególnych aspektów per sentyment\n",
        "sns.countplot(x='Aspect_sentiment',hue='Best_aspect',data=df)\n",
        "plt.title(\"Liczba zdań z poszczególnym sentymentem i aspektem \")"
      ],
      "metadata": {
        "id": "sH_-XqYQ0R6x"
      },
      "execution_count": null,
      "outputs": []
    },
    {
      "cell_type": "code",
      "source": [
        "#Wykres recenzji pozytywnych\n",
        "ax = sns.countplot(x='Aspect_sentiment',hue='Best_aspect',data=df_temp_pos, palette = 'husl')\n",
        "for container in ax.containers:\n",
        "    ax.bar_label(container)\n",
        "plt.title(\"Liczba recenzji pozytywnych dla poszczególnych aspektów\")\n",
        "ax.set(xlabel='Aspekt', ylabel='Liczba recenzji')\n",
        "ax.legend(title='Aspekt')\n",
        "#plt.savefig(\"pos_aspects.png\")"
      ],
      "metadata": {
        "id": "LTi7bYEN0UyD"
      },
      "execution_count": null,
      "outputs": []
    },
    {
      "cell_type": "code",
      "source": [
        "#Wykres recenzji negatywnych\n",
        "ax = sns.countplot(x='Aspect_sentiment',hue='Best_aspect',data=df_temp_neg, palette = 'husl')\n",
        "for container in ax.containers:\n",
        "    ax.bar_label(container)\n",
        "plt.title(\"Liczba recenzji negatywnych dla poszczególnych aspektów\")\n",
        "ax.set(xlabel='Aspekt', ylabel='Liczba recenzji')\n",
        "ax.legend(title='Aspekt')\n",
        "#plt.savefig(\"neg_aspects.png\")"
      ],
      "metadata": {
        "id": "sbIQYkvb0X8W"
      },
      "execution_count": null,
      "outputs": []
    },
    {
      "cell_type": "code",
      "source": [
        "#Wykres recenzji neutralnych\n",
        "ax = sns.countplot(x='Aspect_sentiment',hue='Best_aspect',data=df_temp_neu, palette = 'husl')\n",
        "for container in ax.containers:\n",
        "    ax.bar_label(container)\n",
        "plt.title(\"Liczba recenzji neutralnych dla poszczególnych aspektów\")\n",
        "ax.set(xlabel='Aspekt', ylabel='Liczba recenzji')\n",
        "ax.legend(title='Aspekt')\n",
        "#plt.savefig(\"neu_aspects.png\")"
      ],
      "metadata": {
        "id": "E_ex4FEq0asr"
      },
      "execution_count": null,
      "outputs": []
    },
    {
      "cell_type": "markdown",
      "source": [
        "### Modele uczenia maszynowego"
      ],
      "metadata": {
        "id": "sPayxR6M2W7O"
      }
    },
    {
      "cell_type": "code",
      "source": [
        "#Przygotowanie danych pod modele uczenia maszynowego\n",
        "X = SCreviews['Lemmatized']. tolist()\n",
        "y = SCreviews['Sentiment']. tolist()"
      ],
      "metadata": {
        "id": "umfZ1IIEwFa7"
      },
      "execution_count": null,
      "outputs": []
    },
    {
      "cell_type": "code",
      "source": [
        "#Zmiana typu kolumny po lemantyzacji\n",
        "def lemmatizing(text):\n",
        "    lemmatizer = WordNetLemmatizer()\n",
        "    tokens = word_tokenize(text)\n",
        "    for i in range(len(tokens)):\n",
        "        lemma_word = lemmatizer.lemmatize(tokens[i])\n",
        "        tokens[i] = lemma_word\n",
        "    return \" \".join(tokens)\n",
        "\n",
        "SCreviews['Lemmatized'] = SCreviews['Preprocessed'].apply(lambda x: lemmatizing(x))"
      ],
      "metadata": {
        "id": "tqsJHWhosR4J"
      },
      "execution_count": null,
      "outputs": []
    },
    {
      "cell_type": "code",
      "source": [
        "#Wektoryzacja\n",
        "vectorizer= TfidfVectorizer()\n",
        "X_transformed = vectorizer.fit_transform(SCreviews['Lemmatized'])\n",
        "X_transformed = X_transformed.toarray()"
      ],
      "metadata": {
        "id": "3WZUCOHp3PPf"
      },
      "execution_count": null,
      "outputs": []
    },
    {
      "cell_type": "code",
      "source": [
        "#Podział zbioru na uczący i testowy\n",
        "X_train, X_test, y_train, y_test = train_test_split(X_transformed,y,test_size = 0.2, random_state = 10031998)"
      ],
      "metadata": {
        "id": "IK9IY_GH3acF"
      },
      "execution_count": null,
      "outputs": []
    },
    {
      "cell_type": "code",
      "source": [
        "print(X_train.shape)\n",
        "print(X_test.shape)"
      ],
      "metadata": {
        "colab": {
          "base_uri": "https://localhost:8080/"
        },
        "id": "vljxwsea3fpV",
        "outputId": "b61199a7-decc-4e8c-df55-8af1b49350e9"
      },
      "execution_count": null,
      "outputs": [
        {
          "output_type": "stream",
          "name": "stdout",
          "text": [
            "(693, 1661)\n",
            "(174, 1661)\n"
          ]
        }
      ]
    },
    {
      "cell_type": "code",
      "source": [
        "Counter(y_test)"
      ],
      "metadata": {
        "colab": {
          "base_uri": "https://localhost:8080/"
        },
        "id": "7bh405tq3jDI",
        "outputId": "fef50b90-313b-43f4-e03f-3a712932c750"
      },
      "execution_count": null,
      "outputs": [
        {
          "output_type": "execute_result",
          "data": {
            "text/plain": [
              "Counter({'Positive': 137, 'Negative': 27, 'Neutral': 10})"
            ]
          },
          "metadata": {},
          "execution_count": 92
        }
      ]
    },
    {
      "cell_type": "code",
      "source": [
        "Counter(y_train)"
      ],
      "metadata": {
        "colab": {
          "base_uri": "https://localhost:8080/"
        },
        "id": "1wbi1QeI3kpg",
        "outputId": "4b310151-9fb5-4e9f-b9d5-dabc1b8563f4"
      },
      "execution_count": null,
      "outputs": [
        {
          "output_type": "execute_result",
          "data": {
            "text/plain": [
              "Counter({'Negative': 82, 'Positive': 581, 'Neutral': 30})"
            ]
          },
          "metadata": {},
          "execution_count": 93
        }
      ]
    },
    {
      "cell_type": "code",
      "source": [
        "print('No. of feature_words: ', len(vectorizer.get_feature_names_out()))"
      ],
      "metadata": {
        "colab": {
          "base_uri": "https://localhost:8080/"
        },
        "id": "Ue_ieBxo3mzi",
        "outputId": "809a6bff-b7d4-4689-f39e-e2b13fc4bf7e"
      },
      "execution_count": null,
      "outputs": [
        {
          "output_type": "stream",
          "name": "stdout",
          "text": [
            "No. of feature_words:  1661\n"
          ]
        }
      ]
    },
    {
      "cell_type": "code",
      "source": [
        "#Oversampling\n",
        "oversample = SMOTE()\n",
        "X_train_over, y_train_over = oversample.fit_resample(X_train, y_train)"
      ],
      "metadata": {
        "id": "Uzad3rO53pR-"
      },
      "execution_count": null,
      "outputs": []
    },
    {
      "cell_type": "code",
      "source": [
        "Counter(y_train_over)"
      ],
      "metadata": {
        "colab": {
          "base_uri": "https://localhost:8080/"
        },
        "id": "s4_x-yW43sM-",
        "outputId": "fd861d62-bb6e-4dc3-f71e-9af43f1e411a"
      },
      "execution_count": null,
      "outputs": [
        {
          "output_type": "execute_result",
          "data": {
            "text/plain": [
              "Counter({'Negative': 581, 'Positive': 581, 'Neutral': 581})"
            ]
          },
          "metadata": {},
          "execution_count": 96
        }
      ]
    },
    {
      "cell_type": "code",
      "source": [
        "#Budowa modelu SVM\n",
        "SVCmodel = SVC()\n",
        "SVCmodel.fit(X_train_over, y_train_over)\n",
        "y_pred_SVC = SVCmodel.predict(X_test)"
      ],
      "metadata": {
        "id": "h9PuBeFK3zsH"
      },
      "execution_count": null,
      "outputs": []
    },
    {
      "cell_type": "code",
      "source": [
        "#Optymalizacja hiperparametrów\n",
        "param_grid = {'C': [0.1, 1, 10, 100],\n",
        "              'gamma': [1, 0.1, 0.01, 0.001, 0.0001],\n",
        "              'kernel': ['rbf']}\n",
        "\n",
        "grid = GridSearchCV(SVC(), param_grid, refit = True, verbose = 3)\n",
        "\n",
        "grid.fit(X_train_over, y_train_over)"
      ],
      "metadata": {
        "id": "VbPmehZZ35Tm"
      },
      "execution_count": null,
      "outputs": []
    },
    {
      "cell_type": "code",
      "source": [
        "print(grid.best_params_)\n",
        "print(grid.best_estimator_)"
      ],
      "metadata": {
        "colab": {
          "base_uri": "https://localhost:8080/"
        },
        "id": "RKsoRlEn39ec",
        "outputId": "8b13865b-4d62-4deb-ebd8-6e8d3e29d536"
      },
      "execution_count": null,
      "outputs": [
        {
          "output_type": "stream",
          "name": "stdout",
          "text": [
            "{'C': 10, 'gamma': 1, 'kernel': 'rbf'}\n",
            "SVC(C=10, gamma=1)\n"
          ]
        }
      ]
    },
    {
      "cell_type": "code",
      "source": [
        "grid_predictions = grid.predict(X_test)"
      ],
      "metadata": {
        "id": "mrcs51eo4B1-"
      },
      "execution_count": null,
      "outputs": []
    },
    {
      "cell_type": "code",
      "source": [
        "#Macierz błędu\n",
        "cm = confusion_matrix(y_test, grid_predictions)\n",
        "cm_df = pd.DataFrame(cm,\n",
        "                     index = ['Negatywne','Neutralne','Pozytywne'],\n",
        "                     columns = ['Negatywne','Neutralne','Pozytywne'])\n",
        "plt.figure(figsize=(5,4))\n",
        "sns.heatmap(cm_df, annot=True, fmt=\"d\", cmap = 'viridis')\n",
        "plt.title('Macierz błędu modelu SVM')\n",
        "plt.ylabel('Wartości rzeczywiste')\n",
        "plt.xlabel('Wartości przewidywane')\n",
        "plt.show()\n",
        "#plt.savefig(\"CM_SVM.png\")"
      ],
      "metadata": {
        "id": "HGoJXac64DJ5"
      },
      "execution_count": null,
      "outputs": []
    },
    {
      "cell_type": "code",
      "source": [
        "#Dokładność i raport klasyfikacji\n",
        "accuracy_SVC = accuracy_score(y_test, grid_predictions)\n",
        "\n",
        "print(\"Accuracy: {}\\n\".format(accuracy_SVC))\n",
        "print(classification_report(y_test, grid_predictions))"
      ],
      "metadata": {
        "id": "zCHy2At14IA1"
      },
      "execution_count": null,
      "outputs": []
    },
    {
      "cell_type": "code",
      "source": [
        "#Budowa modelu KNN\n",
        "KNNmodel = KNeighborsClassifier()\n",
        "KNNmodel.fit(X_train_over, y_train_over)\n",
        "knn_predictions = KNNmodel.predict(X_test)"
      ],
      "metadata": {
        "id": "oDFrVxtj4gp5"
      },
      "execution_count": null,
      "outputs": []
    },
    {
      "cell_type": "code",
      "source": [
        "#Optymalizacja hiperparametrów\n",
        "param_grid_knn = { 'n_neighbors' : [5,7,9,11,13,15],\n",
        "               'weights' : ['uniform','distance'],\n",
        "               'metric' : ['minkowski','euclidean','manhattan']}\n",
        "\n",
        "grid_knn = GridSearchCV(KNNmodel, param_grid_knn, cv=10)\n",
        "\n",
        "KNNmodel2 = grid_knn.fit(X_train_over, y_train_over)"
      ],
      "metadata": {
        "id": "i1JqWBhR4nm2"
      },
      "execution_count": null,
      "outputs": []
    },
    {
      "cell_type": "code",
      "source": [
        "print(KNNmodel2.best_estimator_.get_params())"
      ],
      "metadata": {
        "colab": {
          "base_uri": "https://localhost:8080/"
        },
        "id": "HiwuyM464wrB",
        "outputId": "5cf6cb31-bd9c-4ec4-ff74-657d0a5eb476"
      },
      "execution_count": null,
      "outputs": [
        {
          "output_type": "stream",
          "name": "stdout",
          "text": [
            "{'algorithm': 'auto', 'leaf_size': 30, 'metric': 'manhattan', 'metric_params': None, 'n_jobs': None, 'n_neighbors': 5, 'p': 2, 'weights': 'distance'}\n"
          ]
        }
      ]
    },
    {
      "cell_type": "code",
      "source": [
        "knn_predictions = KNNmodel2.predict(X_test)"
      ],
      "metadata": {
        "id": "oSY8ShzX4t6O"
      },
      "execution_count": null,
      "outputs": []
    },
    {
      "cell_type": "code",
      "source": [
        "#Macierz błędu\n",
        "cm = confusion_matrix(y_test, knn_predictions)\n",
        "cm_df = pd.DataFrame(cm,\n",
        "                     index = ['Negatywne','Neutralne','Pozytywne'],\n",
        "                     columns = ['Negatywne','Neutralne','Pozytywne'])\n",
        "plt.figure(figsize=(5,4))\n",
        "sns.heatmap(cm_df, annot=True, fmt=\"d\", cmap = 'viridis')\n",
        "plt.title('Macierz błędu modelu KNN')\n",
        "plt.ylabel('Wartości rzeczywiste')\n",
        "plt.xlabel('Wartości przewidywane')\n",
        "#plt.show()\n",
        "plt.savefig(\"CM_KNN.png\")"
      ],
      "metadata": {
        "id": "bSzr-4oN4-6j"
      },
      "execution_count": null,
      "outputs": []
    },
    {
      "cell_type": "code",
      "source": [
        "#Dokładność i raport klasyfikacji\n",
        "accuracy_KNN = accuracy_score(y_test, knn_predictions)\n",
        "\n",
        "print(\"Accuracy: {}\\n\".format(accuracy_KNN))\n",
        "print(classification_report(y_test, knn_predictions))"
      ],
      "metadata": {
        "id": "GlschMew5Abh"
      },
      "execution_count": null,
      "outputs": []
    },
    {
      "cell_type": "code",
      "source": [
        "#Budowa modelu Naive Bayes\n",
        "BayesModel = GaussianNB()\n",
        "BayesModel.fit(X_train_over, y_train_over)\n",
        "gnb_predictions = BayesModel.predict(X_test)"
      ],
      "metadata": {
        "id": "qQPG4zfu5GCL"
      },
      "execution_count": null,
      "outputs": []
    },
    {
      "cell_type": "code",
      "source": [
        "#Optymalizacja hiperparametrów\n",
        "cv_method = RepeatedStratifiedKFold(n_splits=5, n_repeats=3, random_state=999)\n",
        "params_NB = {'var_smoothing': np.logspace(0,-9, num=100)}\n",
        "\n",
        "grid_NB = GridSearchCV(BayesModel, param_grid=params_NB,  cv=cv_method, verbose=1, scoring='accuracy')\n",
        "\n",
        "BayesModel2 = grid_NB.fit(X_train_over, y_train_over)\n",
        "bayes_predictions = BayesModel2.predict(X_test)"
      ],
      "metadata": {
        "colab": {
          "base_uri": "https://localhost:8080/"
        },
        "id": "GA6_TXQN5Nx9",
        "outputId": "d85b78dd-0fe8-4950-d2a6-e10a938be118"
      },
      "execution_count": null,
      "outputs": [
        {
          "output_type": "stream",
          "name": "stdout",
          "text": [
            "Fitting 15 folds for each of 100 candidates, totalling 1500 fits\n"
          ]
        }
      ]
    },
    {
      "cell_type": "code",
      "source": [
        "print(BayesModel2.best_estimator_.get_params())"
      ],
      "metadata": {
        "colab": {
          "base_uri": "https://localhost:8080/"
        },
        "id": "FuSofRJd5QCU",
        "outputId": "b27924d9-0d0e-4601-fed8-f11b927e0809"
      },
      "execution_count": null,
      "outputs": [
        {
          "output_type": "stream",
          "name": "stdout",
          "text": [
            "{'priors': None, 'var_smoothing': 0.0003511191734215131}\n"
          ]
        }
      ]
    },
    {
      "cell_type": "code",
      "source": [
        "#Macierz błędu\n",
        "cm = confusion_matrix(y_test, bayes_predictions)\n",
        "cm_df = pd.DataFrame(cm,\n",
        "                     index = ['Negatywne','Neutralne','Pozytywne'],\n",
        "                     columns = ['Negatywne','Neutralne','Pozytywne'])\n",
        "plt.figure(figsize=(5,4))\n",
        "sns.heatmap(cm_df, annot=True, fmt=\"d\", cmap = 'viridis')\n",
        "plt.title('Macierz błędu modelu Naive Bayes')\n",
        "plt.ylabel('Wartości rzeczywiste')\n",
        "plt.xlabel('Wartości przewidywane')\n",
        "plt.show()\n",
        "#plt.savefig(\"CM_NB.png\")"
      ],
      "metadata": {
        "id": "nD3HkAhQ5Uuu"
      },
      "execution_count": null,
      "outputs": []
    },
    {
      "cell_type": "code",
      "source": [
        "#Dokładność i raport klasyfikacji\n",
        "accuracy_NB = accuracy_score(y_test, bayes_predictions)\n",
        "\n",
        "print(\"Accuracy: {}\\n\".format(accuracy_NB))\n",
        "print(classification_report(y_test, bayes_predictions))"
      ],
      "metadata": {
        "id": "DfNGFBuj5m-N"
      },
      "execution_count": null,
      "outputs": []
    }
  ]
}